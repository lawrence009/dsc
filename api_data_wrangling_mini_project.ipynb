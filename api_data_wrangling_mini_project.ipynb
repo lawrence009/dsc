{
 "cells": [
  {
   "cell_type": "markdown",
   "metadata": {},
   "source": [
    "# API Data Wrangling Mini-Project\n",
    "\n",
    "This exercise will require you to pull some data from the Qunadl API. Qaundl is currently the most widely used aggregator of financial market data."
   ]
  },
  {
   "cell_type": "markdown",
   "metadata": {},
   "source": [
    "As a first step, you will need to register a free account on the http://www.quandl.com website."
   ]
  },
  {
   "cell_type": "markdown",
   "metadata": {},
   "source": [
    "After you register, you will be provided with a unique API key, that you should store:"
   ]
  },
  {
   "cell_type": "code",
   "execution_count": 1,
   "metadata": {},
   "outputs": [],
   "source": [
    "# Store the API key as a string - according to PEP8, constants are always named in all upper case\n",
    "\n",
    "import os\n",
    "\n",
    "filename = os.path.join(os.path.expanduser('~'), 'OneDrive', 'Documents', 'quandl.key')\n",
    "with open(filename, mode='r') as file:\n",
    "    line = file.readline()\n",
    "    while line:\n",
    "        if line.startswith('key='):\n",
    "            API_KEY = line.replace('key=', '')\n",
    "            break\n",
    "        line = file.readline()"
   ]
  },
  {
   "cell_type": "markdown",
   "metadata": {},
   "source": [
    "Qaundl has a large number of data sources, but, unfortunately, most of them require a Premium subscription. Still, there are also a good number of free datasets."
   ]
  },
  {
   "cell_type": "markdown",
   "metadata": {},
   "source": [
    "For this mini project, we will focus on equities data from the Frankfurt Stock Exhange (FSE), which is available for free. We'll try and analyze the stock prices of a company called Carl Zeiss Meditec, which manufactures tools for eye examinations, as well as medical lasers for laser eye surgery: https://www.zeiss.com/meditec/int/home.html. The company is listed under the stock ticker AFX_X."
   ]
  },
  {
   "cell_type": "markdown",
   "metadata": {},
   "source": [
    "You can find the detailed Quandl API instructions here: https://docs.quandl.com/docs/time-series"
   ]
  },
  {
   "cell_type": "markdown",
   "metadata": {},
   "source": [
    "https://www.quandl.com/data/FSE-Frankfurt-Stock-Exchange/documentation"
   ]
  },
  {
   "cell_type": "markdown",
   "metadata": {},
   "source": [
    "While there is a dedicated Python package for connecting to the Quandl API, we would prefer that you use the *requests* package, which can be easily downloaded using *pip* or *conda*. You can find the documentation for the package here: https://requests.readthedocs.io/en/master/"
   ]
  },
  {
   "cell_type": "markdown",
   "metadata": {},
   "source": [
    "Finally, apart from the *requests* package, you are encouraged to not use any third party Python packages, such as *pandas*, and instead focus on what's available in the Python Standard Library (the *collections* module might come in handy: https://pymotw.com/3/collections/ ).\n",
    "Also, since you won't have access to DataFrames, you are encouraged to us Python's native data structures - preferably dictionaries, though some questions can also be answered using lists.\n",
    "You can read more on these data structures here: https://docs.python.org/3/tutorial/datastructures.html"
   ]
  },
  {
   "cell_type": "markdown",
   "metadata": {},
   "source": [
    "Keep in mind that the JSON responses you will be getting from the API map almost one-to-one to Python's dictionaries. Unfortunately, they can be very nested, so make sure you read up on indexing dictionaries in the documentation provided above."
   ]
  },
  {
   "cell_type": "code",
   "execution_count": 2,
   "metadata": {},
   "outputs": [],
   "source": [
    "# First, import the relevant modules\n",
    "import requests"
   ]
  },
  {
   "cell_type": "code",
   "execution_count": 3,
   "metadata": {},
   "outputs": [],
   "source": [
    "# Now, call the Quandl API and pull out a small sample of the data (only one day) to get a glimpse\n",
    "# into the JSON structure that will be returned\n",
    "\n",
    "database_code = 'FSE'\n",
    "dataset_code = 'AFX_X'\n",
    "return_format = 'json'\n",
    "# GET https://www.quandl.com/api/v3/datasets/{database_code}/{dataset_code}/data.{return_format}\n",
    "curl = f'https://www.quandl.com/api/v3/datasets/{database_code}/{dataset_code}/data.{return_format}?api_key={API_KEY}'"
   ]
  },
  {
   "cell_type": "code",
   "execution_count": 4,
   "metadata": {},
   "outputs": [
    {
     "data": {
      "text/plain": [
       "{'dataset_data': {'limit': 1,\n",
       "  'transform': None,\n",
       "  'column_index': None,\n",
       "  'column_names': ['Date',\n",
       "   'Open',\n",
       "   'High',\n",
       "   'Low',\n",
       "   'Close',\n",
       "   'Change',\n",
       "   'Traded Volume',\n",
       "   'Turnover',\n",
       "   'Last Price of the Day',\n",
       "   'Daily Traded Units',\n",
       "   'Daily Turnover'],\n",
       "  'start_date': '2000-06-07',\n",
       "  'end_date': '2020-08-24',\n",
       "  'frequency': 'daily',\n",
       "  'data': [['2020-08-24',\n",
       "    92.3,\n",
       "    94.5,\n",
       "    92.3,\n",
       "    93.5,\n",
       "    None,\n",
       "    119117.0,\n",
       "    11168837.75,\n",
       "    None,\n",
       "    None,\n",
       "    None]],\n",
       "  'collapse': None,\n",
       "  'order': None}}"
      ]
     },
     "execution_count": 4,
     "metadata": {},
     "output_type": "execute_result"
    }
   ],
   "source": [
    "# Call the Quandl API and pull out a small sample of the data (only one day) to get a glimpse\n",
    "# into the JSON structure that will be returned\n",
    "\n",
    "req = requests.get(curl + '&limit=1')\n",
    "req.json()"
   ]
  },
  {
   "cell_type": "code",
   "execution_count": 5,
   "metadata": {},
   "outputs": [
    {
     "data": {
      "text/plain": [
       "dict"
      ]
     },
     "execution_count": 5,
     "metadata": {},
     "output_type": "execute_result"
    }
   ],
   "source": [
    "type(req.json())"
   ]
  },
  {
   "cell_type": "code",
   "execution_count": 6,
   "metadata": {},
   "outputs": [
    {
     "data": {
      "text/plain": [
       "dict_keys(['limit', 'transform', 'column_index', 'column_names', 'start_date', 'end_date', 'frequency', 'data', 'collapse', 'order'])"
      ]
     },
     "execution_count": 6,
     "metadata": {},
     "output_type": "execute_result"
    }
   ],
   "source": [
    "req.json().get('dataset_data').keys()"
   ]
  },
  {
   "cell_type": "code",
   "execution_count": 7,
   "metadata": {},
   "outputs": [
    {
     "data": {
      "text/plain": [
       "[['2020-08-24',\n",
       "  92.3,\n",
       "  94.5,\n",
       "  92.3,\n",
       "  93.5,\n",
       "  None,\n",
       "  119117.0,\n",
       "  11168837.75,\n",
       "  None,\n",
       "  None,\n",
       "  None]]"
      ]
     },
     "execution_count": 7,
     "metadata": {},
     "output_type": "execute_result"
    }
   ],
   "source": [
    "req.json().get('dataset_data').get('data')"
   ]
  },
  {
   "cell_type": "markdown",
   "metadata": {},
   "source": [
    "---\n",
    "\n",
    "## Tasks for this mini project:\n",
    "\n",
    "Using only the ***requests*** and Python 3 base modules\n",
    "\n",
    "1. Collect data from the Franfurt Stock Exchange, for the ticker AFX_X, for the whole year 2017 (keep in mind that the date format is YYYY-MM-DD).\n",
    "2. Convert the returned JSON object into a Python dictionary.\n",
    "3. Calculate what the highest and lowest opening prices were for the stock in this period.\n",
    "4. What was the largest change in any one day (based on High and Low price)?\n",
    "5. What was the largest change between any two days (based on Closing Price)?\n",
    "6. What was the average daily trading volume during this year?\n",
    "7. (Optional) What was the median trading volume during this year. (Note: you may need to implement your own function for calculating the median.)"
   ]
  },
  {
   "cell_type": "markdown",
   "metadata": {},
   "source": [
    "to-do: creat a class to perform the basic tasks for\n",
    "\n",
    "* retrieving the time series\n",
    "* return the high and low opening prices\n",
    "* return the high and the low closing price\n",
    "..."
   ]
  },
  {
   "cell_type": "code",
   "execution_count": 8,
   "metadata": {},
   "outputs": [],
   "source": [
    "class FrankfurtStockExchange:\n",
    "    '''\n",
    "    a Python dictionary representation of the retrieved data set\n",
    "    '''\n",
    "\n",
    "    def __init__(self, ticker, api_key, start_date, end_date):\n",
    "\n",
    "        req = self.__request_data__(ticker, api_key, start_date=start_date, end_date=end_date)\n",
    "        \n",
    "        \n",
    "        # task 2: transform into a Python dic\n",
    "        dataset = req.json()['dataset_data']\n",
    "        columns = dataset['column_names']\n",
    "        self.data = {column:[] for column in columns}\n",
    "        for row in dataset['data']:\n",
    "            for i, value in enumerate(row):\n",
    "                self.data[columns[i]].append(value)\n",
    "                \n",
    "        # task 3\n",
    "        self.max_open = max(list(filter(None, self.data['Open'])))\n",
    "        self.min_open = min(list(filter(None, self.data['Open'])))\n",
    "        \n",
    "    def __request_data__(self, ticker, api_key, start_date='', end_date='', limit=1):\n",
    "        '''\n",
    "        Request a data set via the API\n",
    "        '''\n",
    "        database_code = 'FSE'\n",
    "        dataset_code = ticker\n",
    "        return_format = 'json'\n",
    "        \n",
    "        if len(start_date) > 0 or len(end_date) > 0: limit=''\n",
    "\n",
    "        # base method\n",
    "        curl = f'https://www.quandl.com/api/v3/datasets/{database_code}/{dataset_code}_X/data.{return_format}?api_key={api_key}'\n",
    "\n",
    "        req = requests.get(curl + f'&start_date={start_date}&end_date={end_date}&limit={limit}')\n",
    "        \n",
    "        return req\n",
    "    \n",
    "    # task 4\n",
    "    def max_daily_price_diff(self):\n",
    "        '''Returns the largest one-day change based on the daily high and low price'''\n",
    "        daily_change = 0\n",
    "        for high, low in zip(self.data['High'], self.data['Low']):\n",
    "            try:\n",
    "                diff = high - low\n",
    "                if diff > daily_change: daily_change = diff\n",
    "            except:\n",
    "                pass\n",
    "        \n",
    "        return daily_change\n",
    "\n",
    "    # task 5\n",
    "    def consective_close_diff(self, cond='max'):\n",
    "        '''Returns a list of difference in the two consective closing price'''\n",
    "        closing_prices = list(filter(None, self.data['Close'])) # drop missing values\n",
    "        ## to-do: write dropna function where it takes list of value\n",
    "        l = [closing_prices[i + 1] - closing_prices[i] for i in range(len(closing_prices) - 1)]\n",
    "        \n",
    "        return self.__abs_diff(l, cond)\n",
    "    \n",
    "    \n",
    "    def __abs_diff(self, l, cond='max'):\n",
    "        '''Given a list, find and return the max difference regardless of sign'''\n",
    "        if cond == 'min':\n",
    "            diff = float('inf')\n",
    "        else:\n",
    "            diff = 0\n",
    "        \n",
    "        for x in l:\n",
    "            if cond == 'min':\n",
    "                if abs(x) < abs(diff): diff = x            \n",
    "            else:\n",
    "                if abs(x) > abs(diff): diff = x\n",
    "        \n",
    "        return diff\n",
    "\n",
    "    \n",
    "    @classmethod\n",
    "    def date_range(cls, ticker, start_date, end_date):\n",
    "        '''\n",
    "        an alternativ constructor\n",
    "        '''\n",
    "        pass\n",
    "        \n",
    "    def get_date_range(self):\n",
    "        return (min(self.data['Date']), max(self.data['Date']))\n",
    " "
   ]
  },
  {
   "cell_type": "markdown",
   "metadata": {},
   "source": [
    "### Start here"
   ]
  },
  {
   "cell_type": "markdown",
   "metadata": {},
   "source": [
    "1. Collect data"
   ]
  },
  {
   "cell_type": "code",
   "execution_count": 9,
   "metadata": {},
   "outputs": [],
   "source": [
    "afx = FrankfurtStockExchange('AFX', API_KEY, '2017-01-01', '2017-12-31')"
   ]
  },
  {
   "cell_type": "code",
   "execution_count": 10,
   "metadata": {},
   "outputs": [
    {
     "data": {
      "text/plain": [
       "('2017-01-02', '2017-12-29')"
      ]
     },
     "execution_count": 10,
     "metadata": {},
     "output_type": "execute_result"
    }
   ],
   "source": [
    "afx.get_date_range()"
   ]
  },
  {
   "cell_type": "markdown",
   "metadata": {},
   "source": [
    "2. Convert the received data into a Python dictionary"
   ]
  },
  {
   "cell_type": "code",
   "execution_count": 11,
   "metadata": {},
   "outputs": [
    {
     "data": {
      "text/plain": [
       "dict_keys(['Date', 'Open', 'High', 'Low', 'Close', 'Change', 'Traded Volume', 'Turnover', 'Last Price of the Day', 'Daily Traded Units', 'Daily Turnover'])"
      ]
     },
     "execution_count": 11,
     "metadata": {},
     "output_type": "execute_result"
    }
   ],
   "source": [
    "afx.data.keys()"
   ]
  },
  {
   "cell_type": "code",
   "execution_count": 12,
   "metadata": {},
   "outputs": [
    {
     "data": {
      "text/plain": [
       "[2065534.0,\n",
       " 5703427.0,\n",
       " 4369079.0,\n",
       " 1528055.0,\n",
       " 2157182.0,\n",
       " 964046.0,\n",
       " 1692326.0,\n",
       " 1906810.0,\n",
       " 2515473.0,\n",
       " 1590561.0]"
      ]
     },
     "execution_count": 12,
     "metadata": {},
     "output_type": "execute_result"
    }
   ],
   "source": [
    "afx.data['Turnover'][-10:]"
   ]
  },
  {
   "cell_type": "code",
   "execution_count": 13,
   "metadata": {},
   "outputs": [
    {
     "data": {
      "text/plain": [
       "0.0"
      ]
     },
     "execution_count": 13,
     "metadata": {},
     "output_type": "execute_result"
    }
   ],
   "source": [
    "afx.consective_close_diff('min')"
   ]
  },
  {
   "cell_type": "code",
   "execution_count": 14,
   "metadata": {},
   "outputs": [
    {
     "data": {
      "text/plain": [
       "53.11"
      ]
     },
     "execution_count": 14,
     "metadata": {},
     "output_type": "execute_result"
    }
   ],
   "source": [
    "afx.max_open"
   ]
  },
  {
   "cell_type": "code",
   "execution_count": 15,
   "metadata": {},
   "outputs": [
    {
     "data": {
      "text/plain": [
       "34.0"
      ]
     },
     "execution_count": 15,
     "metadata": {},
     "output_type": "execute_result"
    }
   ],
   "source": [
    "afx.min_open"
   ]
  }
 ],
 "metadata": {
  "kernelspec": {
   "display_name": "Python 3",
   "language": "python",
   "name": "python3"
  },
  "language_info": {
   "codemirror_mode": {
    "name": "ipython",
    "version": 3
   },
   "file_extension": ".py",
   "mimetype": "text/x-python",
   "name": "python",
   "nbconvert_exporter": "python",
   "pygments_lexer": "ipython3",
   "version": "3.8.5"
  }
 },
 "nbformat": 4,
 "nbformat_minor": 4
}
